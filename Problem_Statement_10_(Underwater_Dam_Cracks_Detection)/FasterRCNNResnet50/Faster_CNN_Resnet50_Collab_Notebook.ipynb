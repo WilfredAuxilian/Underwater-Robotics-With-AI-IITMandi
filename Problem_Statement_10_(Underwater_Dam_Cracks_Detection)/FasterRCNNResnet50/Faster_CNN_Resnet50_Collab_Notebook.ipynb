{
  "nbformat": 4,
  "nbformat_minor": 0,
  "metadata": {
    "colab": {
      "provenance": [],
      "gpuType": "T4"
    },
    "kernelspec": {
      "name": "python3",
      "display_name": "Python 3"
    },
    "language_info": {
      "name": "python"
    },
    "accelerator": "GPU"
  },
  "cells": [
    {
      "cell_type": "code",
      "execution_count": 1,
      "metadata": {
        "id": "5SjC2DIPuvCV"
      },
      "outputs": [],
      "source": [
        "import torch\n",
        "import torchvision\n",
        "from torch.utils.data import DataLoader\n",
        "from torchvision.models.detection import FasterRCNN\n",
        "from torchvision.models.detection.faster_rcnn import FastRCNNPredictor\n",
        "from torchvision.datasets import CocoDetection\n",
        "from torchvision.transforms import functional as F\n",
        "import matplotlib.pyplot as plt\n",
        "from PIL import Image"
      ]
    },
    {
      "cell_type": "code",
      "source": [
        "# Define transformations\n",
        "class CocoTransform:\n",
        "    def __call__(self, image, target):\n",
        "        image = F.to_tensor(image)  # Convert PIL image to tensor\n",
        "        return image, target"
      ],
      "metadata": {
        "id": "u5mH7Ae6u1gB"
      },
      "execution_count": 2,
      "outputs": []
    },
    {
      "cell_type": "code",
      "source": [
        "from google.colab import drive\n",
        "drive.mount('/content/drive')"
      ],
      "metadata": {
        "id": "Bbygf3rhFJM3",
        "colab": {
          "base_uri": "https://localhost:8080/"
        },
        "outputId": "4c11831a-43c8-4ebf-bb70-9cf9e428051b"
      },
      "execution_count": 3,
      "outputs": [
        {
          "output_type": "stream",
          "name": "stdout",
          "text": [
            "Mounted at /content/drive\n"
          ]
        }
      ]
    },
    {
      "cell_type": "code",
      "source": [
        "# Dataset class\n",
        "def get_coco_dataset(img_dir, ann_file):\n",
        "    return CocoDetection(\n",
        "        root=img_dir,\n",
        "        annFile=ann_file,\n",
        "        transforms=CocoTransform()\n",
        "    )\n",
        "\n",
        "# Load datasets\n",
        "train_dataset = get_coco_dataset(\n",
        "    img_dir=\"/content/drive/MyDrive/MaskRCNN_Custom/train\",\n",
        "    ann_file=\"/content/drive/MyDrive/MaskRCNN_Custom/train/_annotations.coco.json\"\n",
        ")\n",
        "\n",
        "\n",
        "val_dataset = get_coco_dataset(\n",
        "    img_dir=\"/content/drive/McyDrive/MaskRCNN_Custom/valid\",\n",
        "    ann_file=\"/content/drive/MyDrive/MaskRCNN_Custom/valid/_annotations.coco.json\"\n",
        ")\n",
        "# DataLoader\n",
        "train_loader = DataLoader(train_dataset, batch_size=4, shuffle=True, collate_fn=lambda x: tuple(zip(*x)))\n",
        "val_loader = DataLoader(val_dataset, batch_size=4, shuffle=False, collate_fn=lambda x: tuple(zip(*x)))"
      ],
      "metadata": {
        "id": "FLwhYgDDu8T-",
        "colab": {
          "base_uri": "https://localhost:8080/"
        },
        "outputId": "6f0fca3e-2b66-454c-f0d7-97d375a8fb19"
      },
      "execution_count": 4,
      "outputs": [
        {
          "output_type": "stream",
          "name": "stdout",
          "text": [
            "loading annotations into memory...\n",
            "Done (t=0.64s)\n",
            "creating index...\n",
            "index created!\n",
            "loading annotations into memory...\n",
            "Done (t=0.36s)\n",
            "creating index...\n",
            "index created!\n"
          ]
        }
      ]
    },
    {
      "cell_type": "code",
      "source": [
        "# Load Faster R-CNN with ResNet-50 backbone\n",
        "def get_model(num_classes):\n",
        "    # Load pre-trained Faster R-CNN\n",
        "    model = torchvision.models.detection.fasterrcnn_resnet50_fpn(pretrained=True)\n",
        "\n",
        "    # Get the number of input features for the classifier\n",
        "    in_features = model.roi_heads.box_predictor.cls_score.in_features\n",
        "\n",
        "    # Replace the pre-trained head with a new one\n",
        "    model.roi_heads.box_predictor = FastRCNNPredictor(in_features, num_classes)\n",
        "    return model"
      ],
      "metadata": {
        "id": "GkUOybASwCa2"
      },
      "execution_count": 5,
      "outputs": []
    },
    {
      "cell_type": "code",
      "source": [
        "# Initialize the model\n",
        "num_classes = 2 # Background + chair, human, table\n",
        "model = get_model(num_classes)"
      ],
      "metadata": {
        "id": "MVVibOe9wGtB",
        "colab": {
          "base_uri": "https://localhost:8080/"
        },
        "outputId": "344cf973-2592-493e-9975-ff7d833d6bc8"
      },
      "execution_count": 6,
      "outputs": [
        {
          "output_type": "stream",
          "name": "stderr",
          "text": [
            "/usr/local/lib/python3.11/dist-packages/torchvision/models/_utils.py:208: UserWarning: The parameter 'pretrained' is deprecated since 0.13 and may be removed in the future, please use 'weights' instead.\n",
            "  warnings.warn(\n",
            "/usr/local/lib/python3.11/dist-packages/torchvision/models/_utils.py:223: UserWarning: Arguments other than a weight enum or `None` for 'weights' are deprecated since 0.13 and may be removed in the future. The current behavior is equivalent to passing `weights=FasterRCNN_ResNet50_FPN_Weights.COCO_V1`. You can also use `weights=FasterRCNN_ResNet50_FPN_Weights.DEFAULT` to get the most up-to-date weights.\n",
            "  warnings.warn(msg)\n",
            "Downloading: \"https://download.pytorch.org/models/fasterrcnn_resnet50_fpn_coco-258fb6c6.pth\" to /root/.cache/torch/hub/checkpoints/fasterrcnn_resnet50_fpn_coco-258fb6c6.pth\n",
            "100%|██████████| 160M/160M [00:00<00:00, 190MB/s]\n"
          ]
        }
      ]
    },
    {
      "cell_type": "code",
      "source": [
        "# Move model to GPU if available\n",
        "device = torch.device('cuda') if torch.cuda.is_available() else torch.device('cpu')\n",
        "model.to(device)\n",
        "\n",
        "# Define optimizer and learning rate scheduler\n",
        "params = [p for p in model.parameters() if p.requires_grad]\n",
        "optimizer = torch.optim.SGD(params, lr=0.005, momentum=0.9, weight_decay=0.0005)\n",
        "lr_scheduler = torch.optim.lr_scheduler.StepLR(optimizer, step_size=3, gamma=0.1)"
      ],
      "metadata": {
        "id": "3NYI1gjbwNQT"
      },
      "execution_count": 7,
      "outputs": []
    },
    {
      "cell_type": "code",
      "source": [
        "def train_one_epoch(model, optimizer, data_loader, device, epoch):\n",
        "    model.train()\n",
        "    for images, targets in data_loader:\n",
        "        # Move images to the device\n",
        "        images = [img.to(device) for img in images]\n",
        "\n",
        "        # Validate and process targets\n",
        "        processed_targets = []\n",
        "        valid_images = []\n",
        "        for i, target in enumerate(targets):\n",
        "            boxes = []\n",
        "            labels = []\n",
        "            for obj in target:\n",
        "                # Extract bbox\n",
        "                bbox = obj[\"bbox\"]  # Format: [x, y, width, height]\n",
        "                x, y, w, h = bbox\n",
        "\n",
        "                # Ensure the width and height are positive\n",
        "                if w > 0 and h > 0:\n",
        "                    boxes.append([x, y, x + w, y + h])  # Convert to [x_min, y_min, x_max, y_max]\n",
        "                    labels.append(obj[\"category_id\"])\n",
        "\n",
        "            # Only process if there are valid boxes\n",
        "            if boxes:\n",
        "                processed_target = {\n",
        "                    \"boxes\": torch.tensor(boxes, dtype=torch.float32).to(device),\n",
        "                    \"labels\": torch.tensor(labels, dtype=torch.int64).to(device),\n",
        "                }\n",
        "                processed_targets.append(processed_target)\n",
        "                valid_images.append(images[i])  # Add only valid images\n",
        "\n",
        "        # Skip iteration if no valid targets\n",
        "        if not processed_targets:\n",
        "            continue\n",
        "\n",
        "        # Ensure images and targets are aligned\n",
        "        images = valid_images\n",
        "\n",
        "        # Forward pass\n",
        "        loss_dict = model(images, processed_targets)\n",
        "        losses = sum(loss for loss in loss_dict.values())\n",
        "\n",
        "        # Backpropagation\n",
        "        optimizer.zero_grad()\n",
        "        losses.backward()\n",
        "        optimizer.step()\n",
        "\n",
        "    print(f\"Epoch [{epoch}] Loss: {losses.item():.4f}\")"
      ],
      "metadata": {
        "id": "LYQnDjMFwRyh"
      },
      "execution_count": 8,
      "outputs": []
    },
    {
      "cell_type": "code",
      "source": [
        "# Training loop\n",
        "num_epochs = 50\n",
        "for epoch in range(num_epochs):\n",
        "    train_one_epoch(model, optimizer, train_loader, device, epoch)\n",
        "    lr_scheduler.step()\n",
        "\n",
        "    # Save the model's state dictionary after every epoch\n",
        "    model_path = f\"fasterrcnn_resnet50_epoch_{epoch + 1}.pth\"\n",
        "    torch.save(model.state_dict(), model_path)\n",
        "    print(f\"Model saved: {model_path}\")"
      ],
      "metadata": {
        "id": "eHlNOoiUwXLA",
        "colab": {
          "base_uri": "https://localhost:8080/"
        },
        "outputId": "7bcfd668-6997-4053-afcf-ef5b2ee26282"
      },
      "execution_count": null,
      "outputs": [
        {
          "metadata": {
            "tags": null
          },
          "name": "stdout",
          "output_type": "stream",
          "text": [
            "Epoch [0] Loss: 0.1049\n",
            "Model saved: fasterrcnn_resnet50_epoch_1.pth\n",
            "Epoch [1] Loss: 0.0819\n",
            "Model saved: fasterrcnn_resnet50_epoch_2.pth\n",
            "Epoch [2] Loss: 0.0720\n",
            "Model saved: fasterrcnn_resnet50_epoch_3.pth\n",
            "Epoch [3] Loss: 0.1120\n",
            "Model saved: fasterrcnn_resnet50_epoch_4.pth\n",
            "Epoch [4] Loss: 0.1629\n",
            "Model saved: fasterrcnn_resnet50_epoch_5.pth\n",
            "Epoch [5] Loss: 0.0373\n",
            "Model saved: fasterrcnn_resnet50_epoch_6.pth\n",
            "Epoch [6] Loss: 0.1488\n",
            "Model saved: fasterrcnn_resnet50_epoch_7.pth\n",
            "Epoch [7] Loss: 0.0729\n",
            "Model saved: fasterrcnn_resnet50_epoch_8.pth\n",
            "Epoch [8] Loss: 0.0339\n",
            "Model saved: fasterrcnn_resnet50_epoch_9.pth\n",
            "Epoch [9] Loss: 0.0580\n",
            "Model saved: fasterrcnn_resnet50_epoch_10.pth\n",
            "Epoch [10] Loss: 0.0470\n",
            "Model saved: fasterrcnn_resnet50_epoch_11.pth\n",
            "Epoch [11] Loss: 0.1550\n",
            "Model saved: fasterrcnn_resnet50_epoch_12.pth\n",
            "Epoch [12] Loss: 0.1489\n",
            "Model saved: fasterrcnn_resnet50_epoch_13.pth\n",
            "Epoch [13] Loss: 0.1108\n",
            "Model saved: fasterrcnn_resnet50_epoch_14.pth\n",
            "Epoch [14] Loss: 0.0396\n",
            "Model saved: fasterrcnn_resnet50_epoch_15.pth\n",
            "Epoch [15] Loss: 0.0378\n",
            "Model saved: fasterrcnn_resnet50_epoch_16.pth\n",
            "Epoch [16] Loss: 0.0372\n",
            "Model saved: fasterrcnn_resnet50_epoch_17.pth\n",
            "Epoch [17] Loss: 0.0501\n",
            "Model saved: fasterrcnn_resnet50_epoch_18.pth\n",
            "Epoch [18] Loss: 0.0357\n",
            "Model saved: fasterrcnn_resnet50_epoch_19.pth\n"
          ]
        }
      ]
    },
    {
      "cell_type": "code",
      "source": [
        "import torch\n",
        "import torchvision\n",
        "from torch.utils.data import DataLoader\n",
        "from torchvision.models.detection import FasterRCNN\n",
        "from torchvision.models.detection.faster_rcnn import FastRCNNPredictor\n",
        "from torchvision.transforms import functional as F\n",
        "import matplotlib.pyplot as plt\n",
        "from PIL import Image\n",
        "\n",
        "# Load Faster R-CNN with ResNet-50 backbone\n",
        "def get_model(num_classes):\n",
        "    # Load pre-trained Faster R-CNN\n",
        "    model = torchvision.models.detection.fasterrcnn_resnet50_fpn(weights=\"DEFAULT\")\n",
        "    # Get the number of input features for the classifier\n",
        "    in_features = model.roi_heads.box_predictor.cls_score.in_features\n",
        "    # Replace the pre-trained head with a new one\n",
        "    model.roi_heads.box_predictor = FastRCNNPredictor(in_features, num_classes)\n",
        "    return model\n",
        "\n",
        "\n",
        "# Initialize the model\n",
        "num_classes = 6  # Background + small + medium + large\n",
        "\n",
        "# Move model to GPU if available\n",
        "device = torch.device('cuda') if torch.cuda.is_available() else torch.device('cpu')\n",
        "\n",
        "# Load the trained model\n",
        "model = get_model(num_classes)\n",
        "model.load_state_dict(torch.load(\"fasterrcnn_resnet50_epoch_18.pth\", map_location=device, weights_only=True))\n",
        "model.to(device)\n",
        "model.eval()  # Set the model to evaluation mode\n",
        "\n",
        "\n",
        "# Function to preprocess image\n",
        "def prepare_image(image_path):\n",
        "    image = Image.open(image_path).convert(\"RGB\")  # Open image\n",
        "    image_tensor = F.to_tensor(image).unsqueeze(0)  # Convert image to tensor and add batch dimension\n",
        "    return image_tensor.to(device)\n",
        "\n",
        "# Define class names\n",
        "# COCO_CLASSES = {0: \"Background\", 1: \"yellofish\", 2: \"bluefish\", 3: \"goldfish\"}\n",
        "COCO_CLASSES = {0: \"Background\", 1: \"Bluetang\", 2: \"MoorishIdol\", 3: \"Nemo\", 4: \"YellowTang\", 5: \"Goldfish\"}\n",
        "\n",
        "def get_class_name(class_id):\n",
        "    return COCO_CLASSES.get(class_id, \"Unknown\")\n",
        "\n",
        "# Function to draw bounding boxes\n",
        "def draw_boxes(image, prediction, fig_size=(12, 10)):\n",
        "    plt.figure(figsize=fig_size)  # Set figure size\n",
        "    plt.imshow(image)  # Display the image first\n",
        "\n",
        "    boxes = prediction[0]['boxes'].cpu().numpy()  # Get bounding boxes\n",
        "    labels = prediction[0]['labels'].cpu().numpy()  # Get labels\n",
        "    scores = prediction[0]['scores'].cpu().numpy()  # Get confidence scores\n",
        "\n",
        "    threshold = 0.5  # Lowered threshold for testing\n",
        "\n",
        "    print(\"Boxes Shape:\", boxes.shape)\n",
        "    print(\"Labels Shape:\", labels.shape)\n",
        "    print(\"Scores Shape:\", scores.shape)\n",
        "\n",
        "    for box, label, score in zip(boxes, labels, scores):\n",
        "        if score > threshold:\n",
        "            x_min, y_min, x_max, y_max = box\n",
        "            class_name = get_class_name(label)  # Get class name\n",
        "\n",
        "            # Ensure coordinates are within image bounds\n",
        "            x_min = max(0, x_min)\n",
        "            y_min = max(0, y_min)\n",
        "            x_max = min(image.size[0], x_max)\n",
        "            y_max = min(image.size[1], y_max)\n",
        "\n",
        "            # Draw bounding box\n",
        "            plt.gca().add_patch(plt.Rectangle(\n",
        "                (x_min, y_min), x_max - x_min, y_max - y_min,\n",
        "                linewidth=2, edgecolor='r', facecolor='none'\n",
        "            ))\n",
        "\n",
        "            # Add text label\n",
        "            plt.text(x_min, y_min, f\"{class_name} ({score:.2f})\", color='r', fontsize=12,\n",
        "                     bbox=dict(facecolor='white', alpha=0.5))\n",
        "\n",
        "    plt.axis('off')  # Hide axes\n",
        "    plt.show()\n",
        "\n",
        "\n",
        "# Load the unseen image\n",
        "image_path = \"/content/drive/MyDrive/coco/test/7117_Caranx_sexfasciatus_juvenile_f000022_RGHS_jpg.rf.2b7c2322f58bf67d49e96446c2b2e560.jpg\"\n",
        "image_tensor = prepare_image(image_path)\n",
        "\n",
        "# Run inference\n",
        "with torch.no_grad():  # Disable gradient computation\n",
        "    prediction = model(image_tensor)\n",
        "\n",
        "# Display results\n",
        "draw_boxes(Image.open(image_path), prediction)\n"
      ],
      "metadata": {
        "id": "hoZR4gvT3bJn"
      },
      "execution_count": null,
      "outputs": []
    },
    {
      "cell_type": "code",
      "source": [
        "# Move the model to Google Drive\n",
        "!mv fasterrcnn_resnet50_epoch_15.pth /content/drive/MyDrive/coco/\n"
      ],
      "metadata": {
        "id": "Lt2_CXu0m52o"
      },
      "execution_count": null,
      "outputs": []
    },
    {
      "cell_type": "code",
      "source": [
        "# Download Locally\n",
        "from google.colab import files\n",
        "files.download(\"fasterrcnn_resnet50_epoch_7.pth\")\n"
      ],
      "metadata": {
        "id": "ufcCBMr5nTbz"
      },
      "execution_count": null,
      "outputs": []
    }
  ]
}